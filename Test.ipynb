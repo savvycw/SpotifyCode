{
 "cells": [
  {
   "cell_type": "code",
   "execution_count": 14,
   "metadata": {},
   "outputs": [
    {
     "name": "stderr",
     "output_type": "stream",
     "text": [
      "[nltk_data] Downloading package wordnet to\n",
      "[nltk_data]     C:\\Users\\savan\\AppData\\Roaming\\nltk_data...\n",
      "[nltk_data]   Package wordnet is already up-to-date!\n",
      "[nltk_data] Downloading package stopwords to\n",
      "[nltk_data]     C:\\Users\\savan\\AppData\\Roaming\\nltk_data...\n",
      "[nltk_data]   Package stopwords is already up-to-date!\n",
      "[nltk_data] Downloading package punkt to\n",
      "[nltk_data]     C:\\Users\\savan\\AppData\\Roaming\\nltk_data...\n",
      "[nltk_data]   Package punkt is already up-to-date!\n",
      "[nltk_data] Downloading package maxent_treebank_pos_tagger to\n",
      "[nltk_data]     C:\\Users\\savan\\AppData\\Roaming\\nltk_data...\n",
      "[nltk_data]   Package maxent_treebank_pos_tagger is already up-to-\n",
      "[nltk_data]       date!\n"
     ]
    }
   ],
   "source": [
    "import requests\n",
    "from bs4 import BeautifulSoup\n",
    "import pandas as pd\n",
    "import re\n",
    "from sklearn.feature_extraction.text import CountVectorizer\n",
    "import nltk\n",
    "from nltk.tokenize import word_tokenize, wordpunct_tokenize\n",
    "from collections import Counter\n",
    "import time\n",
    "nltk.download('wordnet')\n",
    "from nltk.stem import WordNetLemmatizer\n",
    "nltk.download('stopwords')\n",
    "nltk.download('punkt')\n",
    "nltk.download('maxent_treebank_pos_tagger')\n",
    "from lyricsgenius import Genius\n",
    "import os\n",
    "import dotenv\n",
    "from dotenv import load_dotenv\n"
   ]
  },
  {
   "cell_type": "code",
   "execution_count": 27,
   "metadata": {},
   "outputs": [
    {
     "name": "stdout",
     "output_type": "stream",
     "text": [
      "['Somebody once told me the world is gonna roll me', \"I ain't the sharpest tool in the shed\", 'She was looking kind of dumb with her finger and her thumb', 'In the shape of an \"L\" on her forehead', '', \"Well, the years start comin' and they don't stop comin'\", \"Fed to the rules and I hit the ground runnin'\", \"Didn't make sense not to live for fun\", 'Your brain gets smart but your head gets dumb', 'So much to do, so much to see', \"So what's wrong with taking the backstreets?\", \"You'll never know if you don't go (W-w-wacko)\", \"You'll never shine if you don't glow\", \"Hey now, you're an all star\", 'Get your game on, go play', \"Hey now, you're a rock star\", 'Get the show on, get paid', '(And all that glitters is gold)', \"Only shootin' stars break the mold\", \"It's a cool place, and they say it gets colder\", \"You're bundled up now, wait 'til you get older\", 'But the meteor men beg to differ', 'Judging by the hole in the satellite picture', \"The ice we skate is gettin' pretty thin\", \"The water's gettin' warm so you might as well swim\", \"My world's on fire, how 'bout yours?\", \"That's the way I like it and I'll never get bored\", \"Hey now, you're an all star\", 'Get your game on, go play', \"Hey now, you're a rock star\", 'Get the show on, get paid', '(All that glitters is gold)', \"Only shootin' stars break the mold\", 'Go for the moon (W-w-wacko, w-w-wacko)', 'Go for the moon (W-w-wacko, w-w-wacko)', 'Go for the moon', 'Go for the moon', '', \"Hey now, you're an all star\", 'Get your game on, go play', \"Hey now, you're a rock star\", 'Get the show on, get paid', '(And all that glitters is gold)', 'Only shooting stars…', '', 'Somebody once asked, \"Could I spare some change for gas?', 'I need to get myself away from this place\"', 'I said, \"Yep, what a concept', 'I could use a little fuel myself and we could all use a little change\"', \"Well, the years start comin' and they don't stop comin'\", \"Fed to the rules and I hit the ground runnin'\", \"Didn't make sense not to live for fun\", 'Your brain gets smart but your head gets dumb', 'So much to do, so much to see', \"So what's wrong with taking the backstreets?\", \"You'll never know if you don't go (Go!)\", \"You'll never shine if you don't glow\", '', \"Hey now, you're an all star\", 'Get your game on, go play', \"Hey now, you're a rock star\", 'Get the show on, get paid', '(And all that glitters is gold)', \"Only shootin' stars break the mold\", '', '(And all that glitters is gold)', \"Only shootin' stars break the mold116Embed\"]\n"
     ]
    }
   ],
   "source": [
    "TOKEN = os.getenv('GeniusID')\n",
    "load_dotenv()\n",
    "\n",
    "genius = Genius(TOKEN)\n",
    "genius.verbose = False # Turn off status messages\n",
    "genius.remove_section_headers = False\n",
    "\n",
    "x = \"All Star\"\n",
    "y = \"Smashmouth\"\n",
    "\n",
    "song = genius.search_song(x, y)\n",
    "\n",
    "#print(song.lyrics)\n",
    "lyrics = song.lyrics\n",
    "lyricLine = lyrics.splitlines()\n",
    "lyricList = []\n",
    "\n",
    "for x in lyricLine:\n",
    "    if \"[\" not in x:\n",
    "        lyricList.append(x)\n",
    "print(lyricList)"
   ]
  },
  {
   "cell_type": "code",
   "execution_count": 32,
   "metadata": {},
   "outputs": [],
   "source": [
    "Most_common_words =[\n",
    "'the',\t\n",
    "'be',\t\n",
    "'to',\t\n",
    "'of',\t\n",
    "'and',\t\n",
    "'in',\t\n",
    "'that',\n",
    "'have',\n",
    "'it',\t\n",
    "'for',\n",
    "'not',\t\n",
    "'on',\t\n",
    "'with',\n",
    "'he',\n",
    "'as',\n",
    "'you',\n",
    "'do',\n",
    "'at',\t\n",
    "'this',\t\n",
    "'but',\t\n",
    "'his',\t\n",
    "'by',\t\n",
    "'from',\t\n",
    "'they',\t\n",
    "'we',\t\n",
    "'say',\t\n",
    "'her',\n",
    "'she',\t\n",
    "'or',\t\n",
    "'an',\t\n",
    "'will',\t\n",
    "'my',\t\n",
    "'one',\n",
    "'all',\t\n",
    "'would',\n",
    "'there',\n",
    "'their',\n",
    "'what',\t\n",
    "'so',\t\n",
    "'up',\t\n",
    "'out',\n",
    "'if',\t\n",
    "'about',\t\n",
    "'who',\t\n",
    "'get',\t\n",
    "'which',\t\n",
    "'go',\t\n",
    "'me',\t\n",
    "'when',\t\n",
    "'make',\t\n",
    "'can',\t\n",
    "'like',\t\n",
    "'time',\t\n",
    "'no',\t\n",
    "'just',\t\n",
    "'him',\t\n",
    "'know',\t\n",
    "'take',\t\n",
    "'people',\t\n",
    "'into',\t\n",
    "'year',\n",
    "'your',\n",
    "'good',\n",
    "'some',\n",
    "'could',\n",
    "'them',\n",
    "'see',\n",
    "'other',\n",
    "'than',\t\n",
    "'then',\t\n",
    "'look',\t\n",
    "'only',\t\n",
    "'come',\t\n",
    "'its',\t\n",
    "'over',\t\n",
    "'think',\t\n",
    "'also',\t\n",
    "'back',\t\n",
    "'after',\t\n",
    "'use',\t\n",
    "'two',\t\n",
    "'how',\t\n",
    "'our',\t\n",
    "'work',\t\n",
    "'first',\t\n",
    "'well',\t\n",
    "'way',\t\n",
    "'even',\t\n",
    "'new',\n",
    "'want',\n",
    "'because',\n",
    "'any',\n",
    "'these',\t\n",
    "'give',\t\n",
    "'day',\t\n",
    "'most',\n",
    "'us',\n",
    "'let']\t"
   ]
  },
  {
   "cell_type": "code",
   "execution_count": 40,
   "metadata": {},
   "outputs": [
    {
     "name": "stdout",
     "output_type": "stream",
     "text": [
      "['somebody', 'once', 'told', 'me', 'the', 'world', 'is', 'gonna', 'roll', 'me', 'i', 'aingt', 'the', 'sharpest', 'tool', 'in', 'the', 'shed', 'she', 'was', 'looking', 'kind', 'of', 'dumb', 'with', 'her', 'finger', 'and', 'her', 'thumb', 'in', 'the', 'shape', 'of', 'an', '\"', 'l', '\"', 'on', 'her', 'forehead', 'well', ',', 'the', 'years', 'start', 'coming', 'and', 'they', 'dont', 'stop', 'coming', 'fed', 'to', 'the', 'rules', 'and', 'i', 'hit', 'the', 'ground', 'running', 'didnt', 'make', 'sense', 'not', 'to', 'live', 'for', 'fun', 'your', 'brain', 'gets', 'smart', 'but', 'your', 'head', 'gets', 'dumb', 'so', 'much', 'to', 'do', ',', 'so', 'much', 'to', 'see', 'so', 'whats', 'wrong', 'with', 'taking', 'the', 'backstreets', '?', 'youll', 'never', 'know', 'if', 'you', 'dont', 'go', '(', 'w', '-', 'w', '-', 'wacko', ')', 'youll', 'never', 'shine', 'if', 'you', 'dont', 'glow', 'hey', 'now', ',', 'youre', 'an', 'all', 'star', 'get', 'your', 'game', 'on', ',', 'go', 'play', 'hey', 'now', ',', 'youre', 'a', 'rock', 'star', 'get', 'the', 'show', 'on', ',', 'get', 'paid', '(', 'and', 'all', 'that', 'glitters', 'is', 'gold', ')', 'only', 'shooting', 'stars', 'break', 'the', 'mold', 'its', 'a', 'cool', 'place', ',', 'and', 'they', 'say', 'it', 'gets', 'colder', 'youre', 'bundled', 'up', 'now', ',', 'wait', 'til', 'you', 'get', 'older', 'but', 'the', 'meteor', 'men', 'beg', 'to', 'differ', 'judging', 'by', 'the', 'hole', 'in', 'the', 'satellite', 'picture', 'the', 'ice', 'we', 'skate', 'is', 'getting', 'pretty', 'thin', 'the', 'waters', 'getting', 'warm', 'so', 'you', 'might', 'as', 'well', 'swim', 'my', 'worlds', 'on', 'fire', ',', 'how', 'bout', 'yours', '?', 'thats', 'the', 'way', 'i', 'like', 'it', 'and', 'ill', 'never', 'get', 'bored', 'hey', 'now', ',', 'youre', 'an', 'all', 'star', 'get', 'your', 'game', 'on', ',', 'go', 'play', 'hey', 'now', ',', 'youre', 'a', 'rock', 'star', 'get', 'the', 'show', 'on', ',', 'get', 'paid', '(', 'all', 'that', 'glitters', 'is', 'gold', ')', 'only', 'shooting', 'stars', 'break', 'the', 'mold', 'go', 'for', 'the', 'moon', '(', 'w', '-', 'w', '-', 'wacko', ',', 'w', '-', 'w', '-', 'wacko', ')', 'go', 'for', 'the', 'moon', '(', 'w', '-', 'w', '-', 'wacko', ',', 'w', '-', 'w', '-', 'wacko', ')', 'go', 'for', 'the', 'moon', 'go', 'for', 'the', 'moon', 'hey', 'now', ',', 'youre', 'an', 'all', 'star', 'get', 'your', 'game', 'on', ',', 'go', 'play', 'hey', 'now', ',', 'youre', 'a', 'rock', 'star', 'get', 'the', 'show', 'on', ',', 'get', 'paid', '(', 'and', 'all', 'that', 'glitters', 'is', 'gold', ')', 'only', 'shooting', 'stars', '…', 'somebody', 'once', 'asked', ',', '\"', 'could', 'i', 'spare', 'some', 'change', 'for', 'gas', '?', 'i', 'need', 'to', 'get', 'myself', 'away', 'from', 'this', 'place', '\"', 'i', 'said', ',', '\"', 'yep', ',', 'what', 'a', 'concept', 'i', 'could', 'use', 'a', 'little', 'fuel', 'myself', 'and', 'we', 'could', 'all', 'use', 'a', 'little', 'change', '\"', 'well', ',', 'the', 'years', 'start', 'coming', 'and', 'they', 'dont', 'stop', 'coming', 'fed', 'to', 'the', 'rules', 'and', 'i', 'hit', 'the', 'ground', 'running', 'didnt', 'make', 'sense', 'not', 'to', 'live', 'for', 'fun', 'your', 'brain', 'gets', 'smart', 'but', 'your', 'head', 'gets', 'dumb', 'so', 'much', 'to', 'do', ',', 'so', 'much', 'to', 'see', 'so', 'whats', 'wrong', 'with', 'taking', 'the', 'backstreets', '?', 'youll', 'never', 'know', 'if', 'you', 'dont', 'go', '(', 'go', '!)', 'youll', 'never', 'shine', 'if', 'you', 'dont', 'glow', 'hey', 'now', ',', 'youre', 'an', 'all', 'star', 'get', 'your', 'game', 'on', ',', 'go', 'play', 'hey', 'now', ',', 'youre', 'a', 'rock', 'star', 'get', 'the', 'show', 'on', ',', 'get', 'paid', '(', 'and', 'all', 'that', 'glitters', 'is', 'gold', ')', 'only', 'shooting', 'stars', 'break', 'the', 'mold', '(', 'and', 'all', 'that', 'glitters', 'is', 'gold', ')', 'only', 'shooting', 'stars', 'break', 'the', 'mold116embed']\n"
     ]
    }
   ],
   "source": [
    "from nltk.tag import pos_tag\n",
    "stopwords = nltk.corpus.stopwords.words('english')\n",
    "from nltk.corpus import wordnet as wn\n",
    "wnl = WordNetLemmatizer()\n",
    "tokens = []\n",
    "\n",
    "for x in lyricList:\n",
    "    x = str(x).lower()\n",
    "    x = str(x).replace(\"in'\",\"ing\")\n",
    "    x = str(x).replace(\"'\",\"\")\n",
    "    word_tokens = wordpunct_tokenize(x)\n",
    "    for y in word_tokens:\n",
    "        tokens.append(y)\n",
    "\n",
    "print(tokens)"
   ]
  },
  {
   "cell_type": "code",
   "execution_count": 43,
   "metadata": {},
   "outputs": [
    {
     "name": "stdout",
     "output_type": "stream",
     "text": [
      "['somebody', 'told', 'world', 'gonna', 'roll', 'aingt', 'sharpest', 'tool', 'shed', 'looking', 'kind', 'dumb', 'finger', 'thumb', 'shape', 'forehead', 'years', 'start', 'coming', 'dont', 'stop', 'coming', 'fed', 'rules', 'hit', 'ground', 'running', 'didnt', 'sense', 'live', 'fun', 'brain', 'gets', 'smart', 'head', 'gets', 'dumb', 'much', 'much', 'whats', 'wrong', 'taking', 'backstreets', 'youll', 'never', 'dont', 'wacko', 'youll', 'never', 'shine', 'dont', 'glow', 'hey', 'youre', 'star', 'game', 'play', 'hey', 'youre', 'rock', 'star', 'show', 'paid', 'glitters', 'gold', 'shooting', 'stars', 'break', 'mold', 'cool', 'place', 'gets', 'colder', 'youre', 'bundled', 'wait', 'til', 'older', 'meteor', 'men', 'beg', 'differ', 'judging', 'hole', 'satellite', 'picture', 'ice', 'skate', 'getting', 'pretty', 'thin', 'waters', 'getting', 'warm', 'might', 'swim', 'worlds', 'fire', 'bout', 'thats', 'ill', 'never', 'bored', 'hey', 'youre', 'star', 'game', 'play', 'hey', 'youre', 'rock', 'star', 'show', 'paid', 'glitters', 'gold', 'shooting', 'stars', 'break', 'mold', 'moon', 'wacko', 'wacko', 'moon', 'wacko', 'wacko', 'moon', 'moon', 'hey', 'youre', 'star', 'game', 'play', 'hey', 'youre', 'rock', 'star', 'show', 'paid', 'glitters', 'gold', 'shooting', 'stars', 'somebody', 'asked', 'spare', 'change', 'gas', 'need', 'away', 'place', 'said', 'yep', 'concept', 'little', 'fuel', 'little', 'change', 'years', 'start', 'coming', 'dont', 'stop', 'coming', 'fed', 'rules', 'hit', 'ground', 'running', 'didnt', 'sense', 'live', 'fun', 'brain', 'gets', 'smart', 'head', 'gets', 'dumb', 'much', 'much', 'whats', 'wrong', 'taking', 'backstreets', 'youll', 'never', 'dont', 'youll', 'never', 'shine', 'dont', 'glow', 'hey', 'youre', 'star', 'game', 'play', 'hey', 'youre', 'rock', 'star', 'show', 'paid', 'glitters', 'gold', 'shooting', 'stars', 'break', 'mold', 'glitters', 'gold', 'shooting', 'stars', 'break']\n"
     ]
    }
   ],
   "source": [
    "cleaned = []\n",
    "\n",
    "for x in tokens:\n",
    "    if len(x)>1:\n",
    "        if x.isalpha():\n",
    "            if x not in stopwords:\n",
    "                if x not in Most_common_words:\n",
    "                    cleaned.append(x)\n",
    "\n",
    "print(cleaned)"
   ]
  },
  {
   "cell_type": "code",
   "execution_count": 58,
   "metadata": {},
   "outputs": [
    {
     "name": "stdout",
     "output_type": "stream",
     "text": [
      "['somebody', 'tell', 'world', 'roll', 'sharp', 'tool', 'shed', 'looking', 'kind', 'dumb', 'finger', 'thumb', 'shape', 'forehead', 'year', 'start', 'coming', 'stop', 'coming', 'fed', 'rule', 'hit', 'ground', 'running', 'sense', 'live', 'fun', 'brain', 'get', 'smart', 'head', 'get', 'dumb', 'much', 'much', 'wrong', 'taking', 'never', 'wacko', 'never', 'shine', 'glow', 'star', 'game', 'play', 'rock', 'star', 'show', 'pay', 'glitter', 'gold', 'shooting', 'star', 'break', 'mold', 'cool', 'place', 'get', 'cold', 'bundle', 'wait', 'old', 'meteor', 'men', 'beg', 'differ', 'judging', 'hole', 'satellite', 'picture', 'ice', 'skate', 'getting', 'pretty', 'thin', 'water', 'getting', 'warm', 'might', 'swim', 'world', 'fire', 'bout', 'ill', 'never', 'bore', 'star', 'game', 'play', 'rock', 'star', 'show', 'pay', 'glitter', 'gold', 'shooting', 'star', 'break', 'mold', 'moon', 'wacko', 'wacko', 'moon', 'wacko', 'wacko', 'moon', 'moon', 'star', 'game', 'play', 'rock', 'star', 'show', 'pay', 'glitter', 'gold', 'shooting', 'star', 'somebody', 'ask', 'spare', 'change', 'gas', 'need', 'away', 'place', 'say', 'concept', 'little', 'fuel', 'little', 'change', 'year', 'start', 'coming', 'stop', 'coming', 'fed', 'rule', 'hit', 'ground', 'running', 'sense', 'live', 'fun', 'brain', 'get', 'smart', 'head', 'get', 'dumb', 'much', 'much', 'wrong', 'taking', 'never', 'never', 'shine', 'glow', 'star', 'game', 'play', 'rock', 'star', 'show', 'pay', 'glitter', 'gold', 'shooting', 'star', 'break', 'mold', 'glitter', 'gold', 'shooting', 'star', 'break']\n",
      "[('star', 13), ('get', 5), ('never', 5), ('wacko', 5), ('glitter', 5), ('gold', 5), ('shooting', 5), ('coming', 4), ('much', 4), ('game', 4), ('play', 4), ('rock', 4), ('show', 4), ('pay', 4), ('break', 4), ('moon', 4), ('dumb', 3), ('mold', 3), ('somebody', 2), ('world', 2), ('year', 2), ('start', 2), ('stop', 2), ('fed', 2), ('rule', 2), ('hit', 2), ('ground', 2), ('running', 2), ('sense', 2), ('live', 2), ('fun', 2), ('brain', 2), ('smart', 2), ('head', 2), ('wrong', 2), ('taking', 2), ('shine', 2), ('glow', 2), ('place', 2), ('getting', 2), ('change', 2), ('little', 2), ('tell', 1), ('roll', 1), ('sharp', 1), ('tool', 1), ('shed', 1), ('looking', 1), ('kind', 1), ('finger', 1), ('thumb', 1), ('shape', 1), ('forehead', 1), ('cool', 1), ('cold', 1), ('bundle', 1), ('wait', 1), ('old', 1), ('meteor', 1), ('men', 1), ('beg', 1), ('differ', 1), ('judging', 1), ('hole', 1), ('satellite', 1), ('picture', 1), ('ice', 1), ('skate', 1), ('pretty', 1), ('thin', 1), ('water', 1), ('warm', 1), ('might', 1), ('swim', 1), ('fire', 1), ('bout', 1), ('ill', 1), ('bore', 1), ('ask', 1), ('spare', 1), ('gas', 1), ('need', 1), ('away', 1), ('say', 1), ('concept', 1), ('fuel', 1)]\n"
     ]
    }
   ],
   "source": [
    "lem_list = []\n",
    "\n",
    "for x in cleaned:\n",
    "    if len(wn.synsets(x)) >= 1:\n",
    "        word = wn.synsets(x)[0]\n",
    "        tmp = word.pos()\n",
    "        lem = wnl.lemmatize(x, pos=tmp)\n",
    "        lem_list.append(lem)\n",
    "\n",
    "print(lem_list)\n",
    "print(Counter(lem_list).most_common())"
   ]
  },
  {
   "cell_type": "code",
   "execution_count": 51,
   "metadata": {},
   "outputs": [
    {
     "name": "stdout",
     "output_type": "stream",
     "text": [
      "break n break Synset('look.n.02')\n",
      "[Synset('look.n.02'), Synset('looking.n.02'), Synset('look.v.01'), Synset('look.v.02'), Synset('look.v.03'), Synset('search.v.02'), Synset('front.v.01'), Synset('attend.v.02'), Synset('look.v.07'), Synset('expect.v.03'), Synset('look.v.09'), Synset('count.v.08'), Synset('looking.s.01')]\n"
     ]
    }
   ],
   "source": []
  }
 ],
 "metadata": {
  "kernelspec": {
   "display_name": "env",
   "language": "python",
   "name": "python3"
  },
  "language_info": {
   "codemirror_mode": {
    "name": "ipython",
    "version": 3
   },
   "file_extension": ".py",
   "mimetype": "text/x-python",
   "name": "python",
   "nbconvert_exporter": "python",
   "pygments_lexer": "ipython3",
   "version": "3.11.0"
  }
 },
 "nbformat": 4,
 "nbformat_minor": 2
}
